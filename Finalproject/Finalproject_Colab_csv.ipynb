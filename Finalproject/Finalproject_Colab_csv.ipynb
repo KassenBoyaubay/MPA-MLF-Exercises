{
  "cells": [
    {
      "cell_type": "markdown",
      "metadata": {
        "id": "view-in-github",
        "colab_type": "text"
      },
      "source": [
        "<a href=\"https://colab.research.google.com/github/KassenBoyaubay/MPA-MLF-Exercises/blob/main/Finalproject/Finalproject_Colab_csv.ipynb\" target=\"_parent\"><img src=\"https://colab.research.google.com/assets/colab-badge.svg\" alt=\"Open In Colab\"/></a>"
      ]
    },
    {
      "cell_type": "markdown",
      "metadata": {
        "id": "gx1pA3aH9f-1"
      },
      "source": [
        "\n",
        "# MPA-MLF, Finalproject\n",
        "### *Kassen Boyaubay*"
      ]
    },
    {
      "cell_type": "markdown",
      "metadata": {
        "id": "AaT4N9LXALkt"
      },
      "source": [
        "## 0. Import libraries"
      ]
    },
    {
      "cell_type": "code",
      "execution_count": 53,
      "metadata": {
        "id": "wjzcO9SETD5Z"
      },
      "outputs": [],
      "source": [
        "from google.colab import drive\n",
        "import os\n",
        "import pandas as pd\n",
        "import numpy as np\n",
        "from numpy import argmax\n",
        "import matplotlib\n",
        "import matplotlib.pyplot as plt\n",
        "import cv2\n",
        "from PIL import Image\n",
        "from keras.utils import to_categorical\n",
        "from keras import layers, Model, Sequential, Input\n",
        "from keras.callbacks import EarlyStopping\n",
        "from keras.optimizers import Adam\n",
        "from sklearn.preprocessing import MinMaxScaler\n",
        "from sklearn.model_selection import train_test_split\n",
        "from sklearn import decomposition\n",
        "from sklearn.utils import class_weight\n",
        "\n",
        "# from keras import regularizers\n",
        "# from sklearn import preprocessing\n",
        "# from sklearn.svm import LinearSVC\n",
        "\n",
        "font = {'weight' : 'bold',\n",
        "        'size'   : 12}\n",
        "\n",
        "matplotlib.rc('font', **font)"
      ]
    },
    {
      "cell_type": "markdown",
      "metadata": {
        "id": "LpJL3FpE9kJk"
      },
      "source": [
        "## 1. Mount Files"
      ]
    },
    {
      "cell_type": "code",
      "source": [
        "drive.mount('/content/drive')\n",
        "\n",
        "base_dir = '/content/drive/MyDrive/Dataset/'\n",
        "x_train_dir_csv = os.path.join(base_dir, 'Train/CSV/')\n",
        "x_test_dir_csv = os.path.join(base_dir, 'Test/CSV/')\n",
        "y_train_dir = os.path.join(base_dir, 'y_train.csv')"
      ],
      "metadata": {
        "colab": {
          "base_uri": "https://localhost:8080/"
        },
        "id": "_r6a-M2QUrXM",
        "outputId": "588d0e2c-fa60-400c-df18-d6cc04bb5775"
      },
      "execution_count": 2,
      "outputs": [
        {
          "output_type": "stream",
          "name": "stdout",
          "text": [
            "Drive already mounted at /content/drive; to attempt to forcibly remount, call drive.mount(\"/content/drive\", force_remount=True).\n"
          ]
        }
      ]
    },
    {
      "cell_type": "markdown",
      "metadata": {
        "id": "zOI2F9WPbcqK"
      },
      "source": [
        "## 2. Data examination"
      ]
    },
    {
      "cell_type": "markdown",
      "metadata": {
        "id": "A4JoMBtunrAo"
      },
      "source": [
        "### 2.1 Size of the dataset"
      ]
    },
    {
      "cell_type": "code",
      "execution_count": 3,
      "metadata": {
        "colab": {
          "base_uri": "https://localhost:8080/"
        },
        "id": "SOk1mvf_nmk6",
        "outputId": "c4038a05-870b-4d63-d245-357dc5887467"
      },
      "outputs": [
        {
          "output_type": "stream",
          "name": "stdout",
          "text": [
            "total training images: 8279\n",
            "total test images: 3549\n"
          ]
        }
      ],
      "source": [
        "print('total training images:', len(os.listdir(x_train_dir_csv)))\n",
        "print('total test images:', len(os.listdir(x_test_dir_csv)))"
      ]
    },
    {
      "cell_type": "markdown",
      "metadata": {
        "id": "sLoOUduhgMYU"
      },
      "source": [
        "### 2.2 Explore the dataset"
      ]
    },
    {
      "cell_type": "code",
      "source": [
        "img_name = 'img_0'\n",
        "img = pd.read_csv('/content/drive/MyDrive/Dataset/Train/CSV/' + img_name + '.csv').values\n",
        "print('Image shape: ', img.shape)\n",
        "print(img)\n",
        "\n",
        "img = np.delete(img, 0, 1)\n",
        "print('Image shape without first column: ', img.shape)\n",
        "print(img)"
      ],
      "metadata": {
        "colab": {
          "base_uri": "https://localhost:8080/"
        },
        "id": "rZEu2tSc0bNX",
        "outputId": "ca2a74f2-5ecf-4e50-e85e-6b85f99b35ee"
      },
      "execution_count": 28,
      "outputs": [
        {
          "output_type": "stream",
          "name": "stdout",
          "text": [
            "Image shape:  (44, 52)\n",
            "[[  0.      40.809   25.751  ... 104.78    51.486    7.3866]\n",
            " [  1.      35.794   24.56   ...  79.366   56.694   63.145 ]\n",
            " [  2.      16.8     14.145  ...  31.332   24.686   21.428 ]\n",
            " ...\n",
            " [ 41.      62.486   74.848  ...  23.319   59.134   64.447 ]\n",
            " [ 42.      11.689   13.603  ...  22.591   43.078   32.451 ]\n",
            " [ 43.      80.212   27.695  ...  60.717   30.785   82.938 ]]\n",
            "Image shape without first column:  (44, 51)\n",
            "[[ 40.809   25.751   89.378  ... 104.78    51.486    7.3866]\n",
            " [ 35.794   24.56    37.289  ...  79.366   56.694   63.145 ]\n",
            " [ 16.8     14.145   51.555  ...  31.332   24.686   21.428 ]\n",
            " ...\n",
            " [ 62.486   74.848   41.44   ...  23.319   59.134   64.447 ]\n",
            " [ 11.689   13.603   60.658  ...  22.591   43.078   32.451 ]\n",
            " [ 80.212   27.695   17.801  ...  60.717   30.785   82.938 ]]\n"
          ]
        }
      ]
    },
    {
      "cell_type": "code",
      "source": [
        "plt.imshow(img)\n",
        "plt.title(img_name)"
      ],
      "metadata": {
        "colab": {
          "base_uri": "https://localhost:8080/",
          "height": 474
        },
        "id": "16kXwMJ50-y0",
        "outputId": "d18fe314-d157-459b-eca8-0d43683dc342"
      },
      "execution_count": 29,
      "outputs": [
        {
          "output_type": "execute_result",
          "data": {
            "text/plain": [
              "Text(0.5, 1.0, 'img_0')"
            ]
          },
          "metadata": {},
          "execution_count": 29
        },
        {
          "output_type": "display_data",
          "data": {
            "text/plain": [
              "<Figure size 640x480 with 1 Axes>"
            ],
            "image/png": "[encoded data removed]"
          },
          "metadata": {}
        }
      ]
    },
    {
      "cell_type": "markdown",
      "metadata": {
        "id": "5gKrm6PGhXZy"
      },
      "source": [
        "### 2.3 Explore the labels"
      ]
    },
    {
      "cell_type": "code",
      "execution_count": 6,
      "metadata": {
        "colab": {
          "base_uri": "https://localhost:8080/"
        },
        "id": "U51_njv6hcRE",
        "outputId": "3f68b683-7341-4023-a865-c1566f2a291b"
      },
      "outputs": [
        {
          "output_type": "stream",
          "name": "stdout",
          "text": [
            "   id  target\n",
            "0   0       1\n",
            "1   1       3\n",
            "2   2       1\n",
            "3   3       1\n",
            "y_train shape: (8279, 2)\n",
            "\n",
            "y_train unique values: [1 3 2]\n",
            "labels: 3\n"
          ]
        }
      ],
      "source": [
        "y_train = pd.read_csv(y_train_dir)\n",
        "print(y_train.iloc[0:4])\n",
        "print('y_train shape:', y_train.shape)\n",
        "print('\\ny_train unique values:', y_train['target'].unique())\n",
        "print('labels:', len(y_train['target'].unique()))"
      ]
    },
    {
      "cell_type": "markdown",
      "metadata": {
        "id": "-pY0UmtSjxhg"
      },
      "source": [
        "## 3. Data preprocessing"
      ]
    },
    {
      "cell_type": "markdown",
      "metadata": {
        "id": "AMMNJzKS1PtA"
      },
      "source": [
        "### 3.1 x_train preprocessing"
      ]
    },
    {
      "cell_type": "code",
      "execution_count": 7,
      "metadata": {
        "id": "mCuqPlo61RL3",
        "colab": {
          "base_uri": "https://localhost:8080/"
        },
        "outputId": "71174918-6b37-4226-bc36-aaa98afabd99"
      },
      "outputs": [
        {
          "output_type": "stream",
          "name": "stdout",
          "text": [
            "(8279, 44, 51)\n"
          ]
        }
      ],
      "source": [
        "x_train = []\n",
        "for filename in os.listdir(x_train_dir_csv):\n",
        "  a = pd.read_csv(os.path.join(x_train_dir_csv, filename)).values\n",
        "  a = np.delete(a, 0, 1)\n",
        "  x_train.append(a)\n",
        "x_train = np.array(x_train)\n",
        "print(x_train.shape)"
      ]
    },
    {
      "cell_type": "markdown",
      "metadata": {
        "id": "B8Bt8UQHUMDS"
      },
      "source": [
        "#### Save x_train"
      ]
    },
    {
      "cell_type": "code",
      "execution_count": 8,
      "metadata": {
        "id": "ksk-uQErUMDS"
      },
      "outputs": [],
      "source": [
        "# save numpy array as npz file\n",
        "from numpy import savez_compressed\n",
        "# save to npy file\n",
        "savez_compressed('/content/drive/MyDrive/x_train_csv.npz', x_train)"
      ]
    },
    {
      "cell_type": "markdown",
      "metadata": {
        "id": "_H5bQsFYUMDT"
      },
      "source": [
        "#### Load x_train"
      ]
    },
    {
      "cell_type": "code",
      "execution_count": 37,
      "metadata": {
        "id": "cq88-J2FUMDT"
      },
      "outputs": [],
      "source": [
        "# load numpy array from npz file\n",
        "from numpy import load\n",
        "# load dict of arrays\n",
        "dict_data = load('/content/drive/MyDrive/x_train_csv.npz')\n",
        "# extract the first array\n",
        "x_train = dict_data['arr_0']"
      ]
    },
    {
      "cell_type": "markdown",
      "metadata": {
        "id": "-VnDMePV2A4h"
      },
      "source": [
        "### 3.2 x_test preprocessing"
      ]
    },
    {
      "cell_type": "code",
      "execution_count": 10,
      "metadata": {
        "id": "h30lh39t2DRN",
        "colab": {
          "base_uri": "https://localhost:8080/"
        },
        "outputId": "7c48d1b1-9770-4eed-8258-224c29ce0136"
      },
      "outputs": [
        {
          "output_type": "stream",
          "name": "stdout",
          "text": [
            "(3549, 44, 51)\n"
          ]
        }
      ],
      "source": [
        "x_test = []\n",
        "for filename in os.listdir(x_test_dir_csv):\n",
        "  a = pd.read_csv(os.path.join(x_test_dir_csv, filename)).values\n",
        "  a = np.delete(a, 0, 1)\n",
        "  x_test.append(a)\n",
        "x_test = np.array(x_test)\n",
        "print(x_test.shape)"
      ]
    },
    {
      "cell_type": "markdown",
      "metadata": {
        "id": "SyIC_zbRUMDU"
      },
      "source": [
        "#### Save x_test"
      ]
    },
    {
      "cell_type": "code",
      "execution_count": 11,
      "metadata": {
        "id": "4_n7lIZhUMDV"
      },
      "outputs": [],
      "source": [
        "# save numpy array as npz file\n",
        "from numpy import savez_compressed\n",
        "# save to npy file\n",
        "savez_compressed('/content/drive/MyDrive/x_test_csv.npz', x_test)"
      ]
    },
    {
      "cell_type": "markdown",
      "metadata": {
        "id": "G5IFujU3UMDV"
      },
      "source": [
        "#### Load x_test"
      ]
    },
    {
      "cell_type": "code",
      "execution_count": 38,
      "metadata": {
        "id": "b_IB12PNUMDV"
      },
      "outputs": [],
      "source": [
        "# load numpy array from npz file\n",
        "from numpy import load\n",
        "# load dict of arrays\n",
        "dict_data = load('/content/drive/MyDrive/x_test_csv.npz')\n",
        "# extract the first array\n",
        "x_test = dict_data['arr_0']"
      ]
    },
    {
      "cell_type": "markdown",
      "metadata": {
        "id": "HLVvsVlyUMDU"
      },
      "source": [
        "#### 3.3 Normalize x_train and x_test"
      ]
    },
    {
      "cell_type": "code",
      "source": [
        "x_train = x_train.astype('float32')\n",
        "x_test = x_test.astype('float32')"
      ],
      "metadata": {
        "id": "QholnxDs_xSs"
      },
      "execution_count": 39,
      "outputs": []
    },
    {
      "cell_type": "code",
      "source": [
        "x_train = x_train/x_train.max()\n",
        "x_test = x_test/x_test.max()"
      ],
      "metadata": {
        "id": "Dh35Qydh8am7"
      },
      "execution_count": 14,
      "outputs": []
    },
    {
      "cell_type": "markdown",
      "source": [
        "OR"
      ],
      "metadata": {
        "id": "GSlSRNT68bhP"
      }
    },
    {
      "cell_type": "code",
      "execution_count": 40,
      "metadata": {
        "id": "1mgCOMDjUMDU"
      },
      "outputs": [],
      "source": [
        "Xscaler = MinMaxScaler()\n",
        "for id, (x_train_data, x_test_data) in enumerate(zip(x_train, x_test)):\n",
        "  x_train_scaled=Xscaler.fit_transform(x_train_data)\n",
        "  x_test_scaled=Xscaler.fit_transform(x_test_data)\n",
        "  x_train[id]=x_train_scaled\n",
        "  x_test[id]=x_test_scaled"
      ]
    },
    {
      "cell_type": "markdown",
      "metadata": {
        "id": "a8H2S-mJnV2z"
      },
      "source": [
        "### 3.4 y_train preprocessing"
      ]
    },
    {
      "cell_type": "code",
      "execution_count": 15,
      "metadata": {
        "colab": {
          "base_uri": "https://localhost:8080/"
        },
        "id": "mM784cyxjbXP",
        "outputId": "b90e324a-05b3-4506-dfe9-f4e41b6d80fa"
      },
      "outputs": [
        {
          "output_type": "stream",
          "name": "stdout",
          "text": [
            "\"target\" values as array:  [1 3 1 ... 2 1 2]\n",
            "one-hot encoded: \n",
            " [[1 0 0]\n",
            " [0 0 1]\n",
            " [1 0 0]\n",
            " ...\n",
            " [0 1 0]\n",
            " [1 0 0]\n",
            " [0 1 0]]\n"
          ]
        }
      ],
      "source": [
        "num_classes = len(y_train['target'].unique())\n",
        "y_train_encoded = to_categorical(y_train['target'].values-1, num_classes).astype('int32')\n",
        "print('\"target\" values as an array: ', y_train['target'].values)\n",
        "print('one-hot encoded y_train: \\n', y_train_encoded)"
      ]
    },
    {
      "cell_type": "markdown",
      "source": [
        "### 3.5 train test split"
      ],
      "metadata": {
        "id": "lEEKQHLJ8lJK"
      }
    },
    {
      "cell_type": "code",
      "source": [
        "x_train_split, x_test_split, y_train_split, y_test_split = train_test_split(x_train, y_train_encoded, test_size=0.2)"
      ],
      "metadata": {
        "id": "jilnIkrf8pFG"
      },
      "execution_count": 42,
      "outputs": []
    },
    {
      "cell_type": "markdown",
      "metadata": {
        "id": "2RV05Z1XIfKE"
      },
      "source": [
        "## 4. MLP model"
      ]
    },
    {
      "cell_type": "markdown",
      "metadata": {
        "id": "b0UrKRnnKw8X"
      },
      "source": [
        "### 4.1 Build MLP model"
      ]
    },
    {
      "cell_type": "code",
      "execution_count": 75,
      "metadata": {
        "id": "gdAMlCOlJ3KB",
        "colab": {
          "base_uri": "https://localhost:8080/"
        },
        "outputId": "26bac33f-f1c0-423b-ecb8-109042ce6345"
      },
      "outputs": [
        {
          "output_type": "stream",
          "name": "stdout",
          "text": [
            "Model: \"sequential_5\"\n",
            "_________________________________________________________________\n",
            " Layer (type)                Output Shape              Param #   \n",
            "=================================================================\n",
            " flatten_5 (Flatten)         (None, 2244)              0         \n",
            "                                                                 \n",
            " dense_14 (Dense)            (None, 1024)              2298880   \n",
            "                                                                 \n",
            " dense_15 (Dense)            (None, 512)               524800    \n",
            "                                                                 \n",
            " dropout (Dropout)           (None, 512)               0         \n",
            "                                                                 \n",
            " dense_16 (Dense)            (None, 3)                 1539      \n",
            "                                                                 \n",
            "=================================================================\n",
            "Total params: 2,825,219\n",
            "Trainable params: 2,825,219\n",
            "Non-trainable params: 0\n",
            "_________________________________________________________________\n"
          ]
        }
      ],
      "source": [
        "input_shape = (44, 51)\n",
        "\n",
        "model = Sequential(\n",
        "    [\n",
        "        Input(shape=input_shape),\n",
        "     \n",
        "        layers.Flatten(),\n",
        "     \n",
        "        layers.Dense(1024, activation=\"relu\"),\n",
        "        # layers.BatchNormalization(),\n",
        "        # layers.Dropout(0.2),\n",
        "     \n",
        "        layers.Dense(512, activation=\"relu\"),\n",
        "        # layers.BatchNormalization(),\n",
        "        # layers.Dropout(0.5),\n",
        "     \n",
        "        # layers.Dense(128, activation=\"relu\"),\n",
        "        # layers.BatchNormalization(),\n",
        "        # layers.Dropout(0.2),\n",
        "     \n",
        "        layers.Dense(num_classes, activation=\"softmax\"),\n",
        "    ]\n",
        ")\n",
        "\n",
        "model.summary()"
      ]
    },
    {
      "cell_type": "markdown",
      "metadata": {
        "id": "6vu7dKqfK14x"
      },
      "source": [
        "### 4.2 Train CNN model"
      ]
    },
    {
      "cell_type": "code",
      "source": [
        "callbacks = [\n",
        "        EarlyStopping(\n",
        "        # Stop training when `val_loss` is no longer improving\n",
        "        monitor='val_loss',\n",
        "        # \"no longer improving\" being defined as \"no better than 1e-2 less\"\n",
        "        min_delta=1e-3,\n",
        "        # \"no longer improving\" being further defined as \"for at least 2 epochs\"\n",
        "        patience=5,\n",
        "        verbose=1)\n",
        "]"
      ],
      "metadata": {
        "id": "oRT8bpsmwZbB"
      },
      "execution_count": 17,
      "outputs": []
    },
    {
      "cell_type": "markdown",
      "source": [
        "class weights"
      ],
      "metadata": {
        "id": "48jBz--PQJAL"
      }
    },
    {
      "cell_type": "code",
      "source": [
        "y_integers = np.argmax(y_train_split, axis=1)\n",
        "class_weights = class_weight.compute_class_weight(\n",
        "                                                    class_weight = \"balanced\",\n",
        "                                                    classes=np.unique(y_integers),\n",
        "                                                    y = y_integers\n",
        "                                                  )\n",
        "d_class_weights = dict(enumerate(class_weights))"
      ],
      "metadata": {
        "id": "rVSL6EqsNjgJ"
      },
      "execution_count": 68,
      "outputs": []
    },
    {
      "cell_type": "code",
      "execution_count": 76,
      "metadata": {
        "id": "izTZcC0KK3H9",
        "colab": {
          "base_uri": "https://localhost:8080/"
        },
        "outputId": "6a69bdeb-f81f-4c97-d292-3e3ff5d7fb90"
      },
      "outputs": [
        {
          "output_type": "stream",
          "name": "stdout",
          "text": [
            "Epoch 1/10\n",
            "106/106 - 4s - loss: 420.7620 - accuracy: 0.3547 - val_loss: 1.1038 - val_accuracy: 0.2823 - 4s/epoch - 40ms/step\n",
            "Epoch 2/10\n",
            "106/106 - 4s - loss: 2.1874 - accuracy: 0.3184 - val_loss: 1.0977 - val_accuracy: 0.4513 - 4s/epoch - 42ms/step\n",
            "Epoch 3/10\n",
            "106/106 - 3s - loss: 1.0992 - accuracy: 0.3163 - val_loss: 1.0935 - val_accuracy: 0.4513 - 3s/epoch - 29ms/step\n",
            "Epoch 4/10\n",
            "106/106 - 3s - loss: 1.0987 - accuracy: 0.3209 - val_loss: 1.0937 - val_accuracy: 0.4513 - 3s/epoch - 29ms/step\n",
            "Epoch 5/10\n",
            "106/106 - 3s - loss: 1.0984 - accuracy: 0.3649 - val_loss: 1.0996 - val_accuracy: 0.2664 - 3s/epoch - 29ms/step\n",
            "Epoch 6/10\n",
            "106/106 - 5s - loss: 1.0987 - accuracy: 0.2878 - val_loss: 1.0970 - val_accuracy: 0.4513 - 5s/epoch - 44ms/step\n",
            "Epoch 7/10\n",
            "106/106 - 3s - loss: 1.0979 - accuracy: 0.3541 - val_loss: 1.0991 - val_accuracy: 0.2823 - 3s/epoch - 29ms/step\n",
            "Epoch 8/10\n",
            "106/106 - 3s - loss: 1.0978 - accuracy: 0.3133 - val_loss: 1.0968 - val_accuracy: 0.2664 - 3s/epoch - 29ms/step\n",
            "Epoch 9/10\n",
            "106/106 - 3s - loss: 1.0980 - accuracy: 0.3607 - val_loss: 1.1006 - val_accuracy: 0.2823 - 3s/epoch - 29ms/step\n",
            "Epoch 10/10\n",
            "106/106 - 4s - loss: 1.0980 - accuracy: 0.3603 - val_loss: 1.1026 - val_accuracy: 0.2664 - 4s/epoch - 42ms/step\n"
          ]
        }
      ],
      "source": [
        "batch_size = 50\n",
        "epochs = 10\n",
        "\n",
        "optimizer = Adam(\n",
        "    learning_rate=0.01,\n",
        ")\n",
        "\n",
        "model.compile(loss=\"categorical_crossentropy\", optimizer=optimizer, metrics=[\"accuracy\"])\n",
        "history = model.fit(x_train_split, y_train_split, batch_size=batch_size, epochs=epochs, validation_split=0.2, verbose=2, class_weight=d_class_weights)"
      ]
    },
    {
      "cell_type": "markdown",
      "metadata": {
        "id": "ErqRX-FSLL9f"
      },
      "source": [
        "### 4.3 Evaluate trained CNN model"
      ]
    },
    {
      "cell_type": "code",
      "source": [
        "loss, accuracy = model.evaluate(x_test_split, y_test_split, batch_size=1)\n",
        "print('Accuracy: {:.2f}'.format(accuracy*100))\n",
        "print('Loss: {:.2f}'.format(loss))"
      ],
      "metadata": {
        "colab": {
          "base_uri": "https://localhost:8080/"
        },
        "id": "FhGXwZ_E-VMZ",
        "outputId": "a8d73f2f-1ad1-4abd-a67e-ca2806615396"
      },
      "execution_count": 17,
      "outputs": [
        {
          "output_type": "stream",
          "name": "stdout",
          "text": [
            "1656/1656 [==============================] - 13s 8ms/step - loss: 1.2281 - accuracy: 0.3605\n",
            "Accuracy: 36.05\n",
            "Loss: 1.23\n"
          ]
        }
      ]
    },
    {
      "cell_type": "code",
      "execution_count": 62,
      "metadata": {
        "id": "7fbL2AbRY9yX",
        "colab": {
          "base_uri": "https://localhost:8080/",
          "height": 474
        },
        "outputId": "6feb3b2a-a0d5-4d7f-c455-f726fa371710"
      },
      "outputs": [
        {
          "output_type": "execute_result",
          "data": {
            "text/plain": [
              "Text(0, 0.5, 'loss')"
            ]
          },
          "metadata": {},
          "execution_count": 62
        },
        {
          "output_type": "display_data",
          "data": {
            "text/plain": [
              "<Figure size 640x480 with 1 Axes>"
            ],
            "image/png": "[encoded data removed]"
          },
          "metadata": {}
        }
      ],
      "source": [
        "plt.figure()\n",
        "plt.plot(history.history['loss'])\n",
        "plt.plot(history.history['val_loss'])\n",
        "plt.xlabel('n epochs')\n",
        "plt.ylabel('loss')"
      ]
    },
    {
      "cell_type": "code",
      "execution_count": 63,
      "metadata": {
        "id": "9ICJ0yt8Y_xS",
        "colab": {
          "base_uri": "https://localhost:8080/",
          "height": 474
        },
        "outputId": "6f344b12-a01d-4711-b773-c433b7d572b8"
      },
      "outputs": [
        {
          "output_type": "execute_result",
          "data": {
            "text/plain": [
              "Text(0, 0.5, 'loss')"
            ]
          },
          "metadata": {},
          "execution_count": 63
        },
        {
          "output_type": "display_data",
          "data": {
            "text/plain": [
              "<Figure size 640x480 with 1 Axes>"
            ],
            "image/png": "[encoded data removed]"
          },
          "metadata": {}
        }
      ],
      "source": [
        "plt.figure()\n",
        "plt.plot(history.history['accuracy'])\n",
        "plt.plot(history.history['val_accuracy'])\n",
        "plt.xlabel('n epochs')\n",
        "plt.ylabel('loss')"
      ]
    },
    {
      "cell_type": "markdown",
      "metadata": {
        "id": "c6y0Y_aDLZbH"
      },
      "source": [
        "## 5. Model prediction"
      ]
    },
    {
      "cell_type": "code",
      "execution_count": 64,
      "metadata": {
        "colab": {
          "base_uri": "https://localhost:8080/"
        },
        "id": "tYDkP2QPL0Hg",
        "outputId": "31069af3-e4ae-471a-a7f0-71478c14a9d0"
      },
      "outputs": [
        {
          "output_type": "stream",
          "name": "stdout",
          "text": [
            "111/111 [==============================] - 1s 6ms/step\n"
          ]
        }
      ],
      "source": [
        "y_pred_enc = model.predict(x_test)"
      ]
    },
    {
      "cell_type": "markdown",
      "metadata": {
        "id": "eeWOq9SLL2XT"
      },
      "source": [
        "## 6. Export to CSV"
      ]
    },
    {
      "cell_type": "code",
      "execution_count": 66,
      "metadata": {
        "id": "e7AlLLicVOso"
      },
      "outputs": [],
      "source": [
        "indexes = argmax(y_pred_enc, axis=1)\n",
        "y_pred = indexes + 1"
      ]
    },
    {
      "cell_type": "code",
      "execution_count": null,
      "metadata": {
        "id": "XHaqnVXkU9oP"
      },
      "outputs": [],
      "source": [
        "y_pred_postpr = pd.DataFrame({'id': np.arange(0, len(y_pred)), 'target': y_pred})"
      ]
    },
    {
      "cell_type": "code",
      "execution_count": null,
      "metadata": {
        "id": "KergD_fKL5Lo"
      },
      "outputs": [],
      "source": [
        "y_pred_postpr.to_csv('y_pred_mlp.csv', index=False)"
      ]
    }
  ],
  "metadata": {
    "accelerator": "GPU",
    "colab": {
      "provenance": [],
      "include_colab_link": true
    },
    "gpuClass": "standard",
    "kernelspec": {
      "display_name": "base",
      "language": "python",
      "name": "python3"
    },
    "language_info": {
      "codemirror_mode": {
        "name": "ipython",
        "version": 3
      },
      "file_extension": ".py",
      "mimetype": "text/x-python",
      "name": "python",
      "nbconvert_exporter": "python",
      "pygments_lexer": "ipython3",
      "version": "3.8.0"
    }
  },
  "nbformat": 4,
  "nbformat_minor": 0
}