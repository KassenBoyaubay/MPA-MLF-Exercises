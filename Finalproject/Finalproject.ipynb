{
  "cells": [
    {
      "cell_type": "markdown",
      "metadata": {
        "id": "view-in-github",
        "colab_type": "text"
      },
      "source": [
        "<a href=\"https://colab.research.google.com/github/KassenBoyaubay/MPA-MLF-Exercises/blob/main/Finalproject/Finalproject.ipynb\" target=\"_parent\"><img src=\"https://colab.research.google.com/assets/colab-badge.svg\" alt=\"Open In Colab\"/></a>"
      ]
    },
    {
      "cell_type": "markdown",
      "metadata": {
        "id": "gx1pA3aH9f-1"
      },
      "source": [
        "\n",
        "# MPA-MLF, Finalproject\n",
        "### *Kassen Boyaubay*"
      ]
    },
    {
      "cell_type": "markdown",
      "metadata": {
        "id": "AaT4N9LXALkt"
      },
      "source": [
        "## 0. Import libraries"
      ]
    },
    {
      "cell_type": "code",
      "execution_count": 10,
      "metadata": {
        "id": "wjzcO9SETD5Z"
      },
      "outputs": [],
      "source": [
        "from google.colab import drive\n",
        "import os\n",
        "import pandas as pd\n",
        "import numpy as np\n",
        "import matplotlib\n",
        "import matplotlib.pyplot as plt\n",
        "from PIL import Image\n",
        "from keras.utils import to_categorical\n",
        "from keras import layers, Model, Sequential, Input\n",
        "\n",
        "from keras.optimizers import SGD, Adam\n",
        "from keras.callbacks import EarlyStopping\n",
        "from keras import regularizers\n",
        "from sklearn import preprocessing\n",
        "from sklearn.preprocessing import StandardScaler, MinMaxScaler\n",
        "from sklearn import decomposition\n",
        "from sklearn.svm import LinearSVC\n",
        "from numpy import argmax\n",
        "\n",
        "font = {'weight' : 'bold',\n",
        "        'size'   : 12}\n",
        "\n",
        "matplotlib.rc('font', **font)"
      ]
    },
    {
      "cell_type": "markdown",
      "metadata": {
        "id": "LpJL3FpE9kJk"
      },
      "source": [
        "## 1. Mount Files"
      ]
    },
    {
      "cell_type": "code",
      "source": [
        "drive.mount('/content/drive')\n",
        "\n",
        "base_dir = '/content/drive/MyDrive/Dataset'\n",
        "x_train_dir = os.path.join(base_dir, 'Train/Color/')\n",
        "x_test_dir = os.path.join(base_dir, 'Test/Color/')\n",
        "y_train_dir = os.path.join(base_dir, 'y_train.csv')"
      ],
      "metadata": {
        "id": "haGbxqYyWQl3",
        "outputId": "3ab76b89-d7c7-4e8d-f356-cd095dcb5fb3",
        "colab": {
          "base_uri": "https://localhost:8080/"
        }
      },
      "execution_count": 11,
      "outputs": [
        {
          "output_type": "stream",
          "name": "stdout",
          "text": [
            "Drive already mounted at /content/drive; to attempt to forcibly remount, call drive.mount(\"/content/drive\", force_remount=True).\n"
          ]
        }
      ]
    },
    {
      "cell_type": "markdown",
      "source": [
        "## 2. Data examination"
      ],
      "metadata": {
        "id": "zOI2F9WPbcqK"
      }
    },
    {
      "cell_type": "markdown",
      "source": [
        "### 2.1 Size of the dataset"
      ],
      "metadata": {
        "id": "A4JoMBtunrAo"
      }
    },
    {
      "cell_type": "code",
      "source": [
        "print('total training images:', len(os.listdir(x_train_dir)))\n",
        "print('total test images:', len(os.listdir(x_test_dir)))"
      ],
      "metadata": {
        "id": "SOk1mvf_nmk6",
        "outputId": "797f2321-712f-4dd1-bddf-5b3f2877eddc",
        "colab": {
          "base_uri": "https://localhost:8080/"
        }
      },
      "execution_count": 12,
      "outputs": [
        {
          "output_type": "stream",
          "name": "stdout",
          "text": [
            "total training images: 8279\n",
            "total test images: 3562\n"
          ]
        }
      ]
    },
    {
      "cell_type": "markdown",
      "source": [
        "### 2.2 Explore the image"
      ],
      "metadata": {
        "id": "sLoOUduhgMYU"
      }
    },
    {
      "cell_type": "code",
      "source": [
        "img_path = x_train_dir + 'img_0.png'\n",
        "img = np.asarray(Image.open(img_path))\n",
        "input_shape = img.shape\n",
        "print('Image shape: ', input_shape)\n",
        "\n",
        "plt.imshow(img)"
      ],
      "metadata": {
        "id": "GcQBf0diZ129",
        "outputId": "eb9b5416-2a36-4ed2-c1f2-3edcaa400e27",
        "colab": {
          "base_uri": "https://localhost:8080/",
          "height": 475
        }
      },
      "execution_count": 13,
      "outputs": [
        {
          "output_type": "stream",
          "name": "stdout",
          "text": [
            "Image shape:  (539, 682, 3)\n"
          ]
        },
        {
          "output_type": "execute_result",
          "data": {
            "text/plain": [
              "<matplotlib.image.AxesImage at 0x7f64ccd4a7c0>"
            ]
          },
          "metadata": {},
          "execution_count": 13
        },
        {
          "output_type": "display_data",
          "data": {
            "text/plain": [
              "<Figure size 640x480 with 1 Axes>"
            ],
            "image/png": "[encoded data removed]"
          },
          "metadata": {}
        }
      ]
    },
    {
      "cell_type": "markdown",
      "source": [
        "### 2.3 Explore the labels"
      ],
      "metadata": {
        "id": "5gKrm6PGhXZy"
      }
    },
    {
      "cell_type": "code",
      "source": [
        "y_train = pd.read_csv(y_train_dir)\n",
        "print(y_train.iloc[0:4])\n",
        "print('y_train shape:', y_train.shape)\n",
        "print('\\ny_train unique values:', y_train['target'].unique())\n",
        "print('labels:', len(y_train['target'].unique()))"
      ],
      "metadata": {
        "id": "U51_njv6hcRE",
        "outputId": "f05d901e-583c-4bbb-eeda-1dc6c2e69135",
        "colab": {
          "base_uri": "https://localhost:8080/"
        }
      },
      "execution_count": 14,
      "outputs": [
        {
          "output_type": "stream",
          "name": "stdout",
          "text": [
            "   id  target\n",
            "0   0       1\n",
            "1   1       3\n",
            "2   2       1\n",
            "3   3       1\n",
            "y_train shape: (8279, 2)\n",
            "\n",
            "y_train unique values: [1 3 2]\n",
            "labels: 3\n"
          ]
        }
      ]
    },
    {
      "cell_type": "markdown",
      "source": [
        "## 3. Data preprocessing"
      ],
      "metadata": {
        "id": "-pY0UmtSjxhg"
      }
    },
    {
      "cell_type": "markdown",
      "source": [
        "### 3.1 x_train preprocessing"
      ],
      "metadata": {
        "id": "AMMNJzKS1PtA"
      }
    },
    {
      "cell_type": "code",
      "source": [
        "x_train_dir_filenames = os.listdir(x_train_dir)\n",
        "x_train = []\n",
        "for filename in x_train_dir_filenames:\n",
        "  x_train.append(np.asarray(Image.open(x_train_dir + filename)))\n",
        "x_train = np.array(x_train)"
      ],
      "metadata": {
        "id": "mCuqPlo61RL3"
      },
      "execution_count": null,
      "outputs": []
    },
    {
      "cell_type": "markdown",
      "source": [
        "### 3.2 x_test preprocessing"
      ],
      "metadata": {
        "id": "-VnDMePV2A4h"
      }
    },
    {
      "cell_type": "code",
      "source": [
        "x_test_dir_filenames = os.listdir(x_test_dir)\n",
        "x_test = []\n",
        "for filename in x_test_dir_filenames:\n",
        "  x_test.append(np.asarray(Image.open(x_test_dir + filename)))\n",
        "x_test = np.array(x_test)"
      ],
      "metadata": {
        "id": "h30lh39t2DRN"
      },
      "execution_count": null,
      "outputs": []
    },
    {
      "cell_type": "markdown",
      "source": [
        "### 3.3 y_train preprocessing"
      ],
      "metadata": {
        "id": "a8H2S-mJnV2z"
      }
    },
    {
      "cell_type": "code",
      "source": [
        "num_classes = len(y_train['target'].unique())\n",
        "y_train_encoded = to_categorical(y_train['target'].values-1, num_classes)\n",
        "print('\"target\" values as array: ', y_train['target'].values)\n",
        "print('one-hot encoded: \\n', y_train_encoded)"
      ],
      "metadata": {
        "id": "mM784cyxjbXP",
        "outputId": "3b943c56-2c6d-49b3-9b68-76e612a2262c",
        "colab": {
          "base_uri": "https://localhost:8080/"
        }
      },
      "execution_count": null,
      "outputs": [
        {
          "output_type": "stream",
          "name": "stdout",
          "text": [
            "\"target\" values as array:  [1 3 1 ... 2 1 2]\n",
            "one-hot encoded: \n",
            " [[1. 0. 0.]\n",
            " [0. 0. 1.]\n",
            " [1. 0. 0.]\n",
            " ...\n",
            " [0. 1. 0.]\n",
            " [1. 0. 0.]\n",
            " [0. 1. 0.]]\n"
          ]
        }
      ]
    },
    {
      "cell_type": "markdown",
      "source": [
        "## 4. CNN model"
      ],
      "metadata": {
        "id": "2RV05Z1XIfKE"
      }
    },
    {
      "cell_type": "markdown",
      "source": [
        "### 4.1 Build CNN model"
      ],
      "metadata": {
        "id": "b0UrKRnnKw8X"
      }
    },
    {
      "cell_type": "code",
      "source": [
        "model = Sequential(\n",
        "    [\n",
        "        Input(shape=input_shape),\n",
        "        layers.Conv2D(32, kernel_size=(3, 3), activation=\"relu\"),\n",
        "        layers.MaxPooling2D(pool_size=(2, 2)),\n",
        "        layers.Conv2D(64, kernel_size=(3, 3), activation=\"relu\"),\n",
        "        layers.MaxPooling2D(pool_size=(2, 2)),\n",
        "        layers.Flatten(),\n",
        "        # layers.Dense(512, activation=\"relu\"),\n",
        "        layers.Dropout(0.5),\n",
        "        layers.Dense(num_classes, activation=\"softmax\"),\n",
        "    ]\n",
        ")\n",
        "\n",
        "model.summary()"
      ],
      "metadata": {
        "id": "gdAMlCOlJ3KB"
      },
      "execution_count": null,
      "outputs": []
    },
    {
      "cell_type": "code",
      "source": [
        "(x_train, y_train), (x_test, y_test) = datasets.mnist.load_data()\n",
        "print(y_train.shape)\n",
        "print(y_train)"
      ],
      "metadata": {
        "id": "LuMt08KIy3Ih",
        "outputId": "ee3d3338-b74a-42ce-f081-a2bdfc72eb82",
        "colab": {
          "base_uri": "https://localhost:8080/"
        }
      },
      "execution_count": 8,
      "outputs": [
        {
          "output_type": "stream",
          "name": "stdout",
          "text": [
            "Downloading data from https://storage.googleapis.com/tensorflow/tf-keras-datasets/mnist.npz\n",
            "11490434/11490434 [==============================] - 1s 0us/step\n",
            "(60000,)\n",
            "[5 0 4 ... 5 6 8]\n"
          ]
        }
      ]
    },
    {
      "cell_type": "code",
      "source": [
        "x_train.shape"
      ],
      "metadata": {
        "id": "LkMQ-faz1Dvv",
        "outputId": "5561c379-f0da-4d23-97d6-3fdcba8a4dbc",
        "colab": {
          "base_uri": "https://localhost:8080/"
        }
      },
      "execution_count": 9,
      "outputs": [
        {
          "output_type": "execute_result",
          "data": {
            "text/plain": [
              "(60000, 28, 28)"
            ]
          },
          "metadata": {},
          "execution_count": 9
        }
      ]
    },
    {
      "cell_type": "markdown",
      "source": [
        "### 4.2 Train CNN model"
      ],
      "metadata": {
        "id": "6vu7dKqfK14x"
      }
    },
    {
      "cell_type": "code",
      "source": [
        "batch_size = 128\n",
        "epochs = 1\n",
        "\n",
        "model.compile(loss=\"categorical_crossentropy\", optimizer=\"adam\", metrics=[\"accuracy\"])\n",
        "\n",
        "history = model.fit(x_train, y_train_encoded, batch_size=batch_size, epochs=epochs, validation_split=0.1)"
      ],
      "metadata": {
        "id": "izTZcC0KK3H9"
      },
      "execution_count": null,
      "outputs": []
    },
    {
      "cell_type": "markdown",
      "source": [
        "### 4.3 Evaluate trained CNN model"
      ],
      "metadata": {
        "id": "ErqRX-FSLL9f"
      }
    },
    {
      "cell_type": "code",
      "source": [
        "score = model.evaluate(x_test, y_test)\n",
        "print('Test score:', score[0])\n",
        "print('Test accuracy:', score[1])"
      ],
      "metadata": {
        "id": "yMTeJ8v5LNO5"
      },
      "execution_count": null,
      "outputs": []
    },
    {
      "cell_type": "code",
      "source": [
        "import seaborn as sns\n",
        "from sklearn.metrics import confusion_matrix\n",
        "\n",
        "y_pred = model.predict(x_test)\n",
        "\n",
        "Y_pred = np.argmax(y_pred, 1) # Decode Predicted labels\n",
        "Y_test = np.argmax(y_test, 1) # Decode labels\n",
        "\n",
        "fig = plt.figure(figsize=(10, 10)) # Set Figure\n",
        "mat = confusion_matrix(Y_test, Y_pred) # Confusion matrix\n",
        "# Plot Confusion matrix\n",
        "sns.heatmap(mat.T, square=True, annot=True, cbar=False, cmap=plt.cm.Blues)\n",
        "plt.xlabel('Predicted Values')\n",
        "plt.ylabel('True Values');\n",
        "plt.show();"
      ],
      "metadata": {
        "id": "xrmvWaaMLU-p"
      },
      "execution_count": null,
      "outputs": []
    },
    {
      "cell_type": "code",
      "source": [
        "plt.figure()\n",
        "plt.plot(history.history['loss'])\n",
        "plt.plot(history.history['val_loss'])\n",
        "plt.xlabel('n epochs')\n",
        "plt.ylabel('loss')"
      ],
      "metadata": {
        "id": "7fbL2AbRY9yX"
      },
      "execution_count": null,
      "outputs": []
    },
    {
      "cell_type": "code",
      "source": [
        "plt.figure()\n",
        "plt.plot(history.history['accuracy'])\n",
        "plt.plot(history.history['val_accuracy'])\n",
        "plt.xlabel('n epochs')\n",
        "plt.ylabel('loss')"
      ],
      "metadata": {
        "id": "9ICJ0yt8Y_xS"
      },
      "execution_count": null,
      "outputs": []
    },
    {
      "cell_type": "markdown",
      "source": [
        "## 5. Model prediction"
      ],
      "metadata": {
        "id": "c6y0Y_aDLZbH"
      }
    },
    {
      "cell_type": "code",
      "source": [
        "y_pred_enc = model.predict(x_test_prepr_pca)"
      ],
      "metadata": {
        "colab": {
          "base_uri": "https://localhost:8080/"
        },
        "id": "tYDkP2QPL0Hg",
        "outputId": "74dc765b-c98d-49a2-aad3-833acd198c25"
      },
      "execution_count": null,
      "outputs": [
        {
          "output_type": "stream",
          "name": "stdout",
          "text": [
            "120/120 [==============================] - 0s 1ms/step\n"
          ]
        }
      ]
    },
    {
      "cell_type": "markdown",
      "source": [
        "## 6. Export to CSV"
      ],
      "metadata": {
        "id": "eeWOq9SLL2XT"
      }
    },
    {
      "cell_type": "code",
      "source": [
        "indexes = argmax(y_pred_enc, axis=1)\n",
        "y_pred = indexes + 1"
      ],
      "metadata": {
        "id": "e7AlLLicVOso"
      },
      "execution_count": null,
      "outputs": []
    },
    {
      "cell_type": "code",
      "source": [
        "y_pred_postpr = pd.DataFrame({'id': np.arange(0, len(y_pred)), 'target': y_pred})"
      ],
      "metadata": {
        "id": "XHaqnVXkU9oP"
      },
      "execution_count": null,
      "outputs": []
    },
    {
      "cell_type": "code",
      "source": [
        "y_pred_postpr.to_csv('y_pred_mlp.csv', index=False)"
      ],
      "metadata": {
        "id": "KergD_fKL5Lo"
      },
      "execution_count": null,
      "outputs": []
    }
  ],
  "metadata": {
    "colab": {
      "provenance": [],
      "include_colab_link": true
    },
    "kernelspec": {
      "display_name": "Python 3 (ipykernel)",
      "language": "python",
      "name": "python3"
    },
    "language_info": {
      "codemirror_mode": {
        "name": "ipython",
        "version": 3
      },
      "file_extension": ".py",
      "mimetype": "text/x-python",
      "name": "python",
      "nbconvert_exporter": "python",
      "pygments_lexer": "ipython3",
      "version": "3.8.10"
    },
    "accelerator": "GPU",
    "gpuClass": "standard"
  },
  "nbformat": 4,
  "nbformat_minor": 0
}